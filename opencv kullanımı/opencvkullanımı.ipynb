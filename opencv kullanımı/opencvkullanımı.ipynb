{
 "cells": [
  {
   "cell_type": "markdown",
   "id": "21787356-387c-45ff-82c6-078313f3c7bd",
   "metadata": {},
   "source": [
    "# Web Editörleri Ara Sınav Uygulaması\n",
    "\n",
    "### Talimatlar:\n",
    "* <font color=red>Bilgisayarın Görmesi (Computer Vision)</font> ile ilgili OpenCV kütüphanesinin kullanımını anlatan bir uygulama kılavuzu hazırlayınız.\n",
    "* Klavuzda yer alan başlık ve içerik yapısı aşağıdaki gibi olacaktır.\n",
    "* Dosyayı hazırladıktan sonra Github üzerinde bir hesap açıp, bu dosyayı oraya yükleyip, web adresini bu hücrece verilen yere yazınız.\n",
    "* Bu dosyayı ayrıca DBS üzerinde açılan sınav ödevi etkinliğine yükleyiniz.\n",
    "* Bu dosyayı hazırladıktan sonra DBS'ye yüklerken mutlaka dosya adını değiştirerek Kendi Adınızı yazınız. Github'a yüklerken dosya adını konu başlığı ile değiştiriniz.\n",
    "\n",
    "### Öğrenci Bilgileri\n",
    "\n",
    "Öğrenci bilgilerini yazmak için <u>buraya</u> çift tıklayınız.\n",
    "* Adı Soyadı: Mustafa Çölmekçi      \n",
    "* Öğrenci No:213302041\n",
    "* Dosyanın Github adresi: \n",
    "<br><br><b>Bu hücreyi, hazırladığınız dosyayı Github'a yüklemeden önce siliniz.</b>"
   ]
  },
  {
   "cell_type": "markdown",
   "id": "a90db1ba-6346-456c-b18f-a494c03a7eef",
   "metadata": {},
   "source": [
    "Computer Vision yani bilgisayar görüşü, bilgisayarların insanlar gibi gördükleri objeleri tanımlayabilmesine ve işleyebilmesine yarayan teknolojilerle ilgilenen bilgisayar bilimi alanıdır. Görüntüyü edinmek, işlemek, analiz etmek, anlamak, resimlerden sayısal veriler çıkarmak ve bunların sonucunda karar vermek konularını kapsar.\n",
    "\n"
   ]
  },
  {
   "cell_type": "markdown",
   "id": "ebfa1415-77ef-4991-9a36-5cfa1cb92932",
   "metadata": {},
   "source": [
    "### OpenCv Kütüphanesi Kullanımı\n",
    "OpenCv kütüphanesi kullanarak aşağıdaki işlemler yapılabilir:\n",
    "\n",
    "1- \n",
    "2- \n",
    "3- \n",
    ".\n",
    "."
   ]
  },
  {
   "cell_type": "markdown",
   "id": "bf8597a7-af19-4875-9ea5-9fb77b63b804",
   "metadata": {},
   "source": [
    "### 0- Kütüphanenin kurulumu"
   ]
  },
  {
   "cell_type": "code",
   "execution_count": null,
   "id": "e8300d50-497c-42e1-ac2b-cc458bffa579",
   "metadata": {},
   "outputs": [],
   "source": [
    "#spider kullanarak kurulum yaptım aşağıda adımları anlatıyor olacağım\n",
    "#sağdaki ekrana yazmamız gereken kodlar:\n",
    "pip install opencv-python \n",
    "#sonrasında numpy kurmamız gerekiyor \n",
    "pip install numpy\n",
    "#kurulumu tamamladığımızı öğrenmek için :\n",
    "import cv2 \n",
    "#sürümünü güncellemek için :\n",
    "pip install opencv-python==4.9.0"
   ]
  },
  {
   "cell_type": "markdown",
   "id": "3a012d5b-7d9d-4b64-82fd-0539628cd9ab",
   "metadata": {},
   "source": [
    "### 1- "
   ]
  },
  {
   "cell_type": "code",
   "execution_count": null,
   "id": "16af5290-9980-42ea-86f9-c4266926ae24",
   "metadata": {},
   "outputs": [],
   "source": [
    "#opencv kütüphanesi import edildikten sonra numpy kütüphanesi eklenir Numpy kütüphanesi resimlerin dizi şekilde sayısal olarak gösterilmesine yarar.\n",
    "import numpy as np \n",
    "#diğer eklememiz gereken kütüphane iste matplotlib kütühpanesidir bu kütüphanel ile birlikte resimleri gösteriminde kullanabiliriz.\n",
    "import matplotlib \n",
    "\n",
    "\n",
    "\n"
   ]
  },
  {
   "cell_type": "markdown",
   "id": "474f1e1f-1f51-4097-b13b-2997d2f13464",
   "metadata": {},
   "source": [
    "### 2- "
   ]
  },
  {
   "cell_type": "markdown",
   "id": "1384bf1c-b05d-4ff2-a44b-0740b99eba31",
   "metadata": {},
   "source": [
    "### 3- (İhtiyaç duyduğunuz kadar bu başlıktan çoğaltarak aşağıya konu anlatımına devam ediniz.)"
   ]
  },
  {
   "cell_type": "code",
   "execution_count": 1,
   "id": "b265a851-406a-49c5-af2f-3e8cfaf6087f",
   "metadata": {},
   "outputs": [
    {
     "ename": "ModuleNotFoundError",
     "evalue": "No module named 'cv2'",
     "output_type": "error",
     "traceback": [
      "\u001b[0;31m---------------------------------------------------------------------------\u001b[0m",
      "\u001b[0;31mModuleNotFoundError\u001b[0m                       Traceback (most recent call last)",
      "Cell \u001b[0;32mIn[1], line 1\u001b[0m\n\u001b[0;32m----> 1\u001b[0m \u001b[38;5;28;01mimport\u001b[39;00m \u001b[38;5;21;01mcv2\u001b[39;00m \u001b[38;5;66;03m#kütüphaneyi kullanmak için gerekli olan kod \u001b[39;00m\n\u001b[1;32m      2\u001b[0m resim \u001b[38;5;241m=\u001b[39m cv2\u001b[38;5;241m.\u001b[39mimread(\u001b[38;5;124m\"\u001b[39m\u001b[38;5;124moltukalesi.jpg\u001b[39m\u001b[38;5;124m\"\u001b[39m, )  \u001b[38;5;66;03m#dosyada olan resmi okuyor\u001b[39;00m\n\u001b[1;32m      3\u001b[0m cv2\u001b[38;5;241m.\u001b[39mimshow(\u001b[38;5;124m\"\u001b[39m\u001b[38;5;124mresim penceresi\u001b[39m\u001b[38;5;124m\"\u001b[39m, resim) \u001b[38;5;66;03m#img= resim show = göster \"resim penceresi\" adında bir pencere açtı \u001b[39;00m\n",
      "\u001b[0;31mModuleNotFoundError\u001b[0m: No module named 'cv2'"
     ]
    }
   ],
   "source": [
    "import cv2 #kütüphaneyi kullanmak için gerekli olan kod \n",
    "resim = cv2.imread(\"oltukalesi.jpg\", )  #dosyada olan resmi okuyor\n",
    "cv2.imshow(\"resim penceresi\", resim) #img= resim show = göster \"resim penceresi\" adında bir pencere açtı \n",
    "cv2.waitkey(0) #“waitKey” klavyede 0 saniye bekle demektir.\n",
    "\n",
    "gray_image = cv2.cvtColor(img, cv2.COLOR_BGR2GRAY) #resmi siyah beyaz yapmak için kullanılan kod \n",
    "\n"
   ]
  },
  {
   "cell_type": "code",
   "execution_count": null,
   "id": "6a23fce7",
   "metadata": {},
   "outputs": [],
   "source": [
    "#kenar tanıma fonksiyonu \n",
    "img = cv2.imread(img_path)\n",
    "gray_image = cv2.cvtColor(img, cv2.COLOR_BGR2GRAY)\n",
    "(thresh, output2) = cv2.threshold(gray_image, 200, 255, cv2.THRESH_BINARY)\n",
    "output2 = cv2.GaussianBlur(output2, (5, 5), 3)\n",
    "output2 = cv2.Canny(output2, 180, 255)\n",
    "plt.imshow(output2)\n",
    "plt.show()"
   ]
  },
  {
   "cell_type": "code",
   "execution_count": null,
   "id": "66e4f956",
   "metadata": {},
   "outputs": [],
   "source": [
    "import cv2\n",
    "\n",
    "# Fotoğrafı gri tonlamda aç\n",
    "img = cv2.imread('oltukalesi.jpg', cv2.IMREAD_GRAYSCALE)\n",
    "\n",
    "# Eğer fotoğraf başarıyla yüklendiyse, işlemleri yapabilirsiniz.\n",
    "if img is not None:\n",
    "    # İşlemler\n",
    "    cv2.imshow('Gri Tonlu Fotoğraf', img)\n",
    "    cv2.waitKey(0)\n",
    "    cv2.destroyAllWindows()\n",
    "else:\n",
    "    print(\"Fotoğraf yüklenemedi.\")"
   ]
  },
  {
   "cell_type": "code",
   "execution_count": null,
   "id": "27a2f8a9",
   "metadata": {},
   "outputs": [],
   "source": [
    "#resimi blurlamak için kullanılan kod bloğu:\n",
    "import cv2\n",
    "\n",
    "# Fotoğrafı oku\n",
    "img = cv2.imread('oltukalesi.jpg')\n",
    "\n",
    "# Bulanıklaştırma işlemi\n",
    "blurred_img = cv2.blur(img, (5, 5))  # (5, 5) çekirdek boyutu, burada 5x5 bir çekirdek kullanılıyor\n",
    "\n",
    "# Sonucu göster\n",
    "cv2.imshow('Bulanıklaştırılmış Fotoğraf', blurred_img)\n",
    "cv2.waitKey(0)\n",
    "cv2.destroyAllWindows()\n"
   ]
  },
  {
   "cell_type": "markdown",
   "id": "730959fc",
   "metadata": {},
   "source": [
    "# Bir resmi okuyan, şeklini yazdıran ve orijinal resmi gösteren, bu resmi belirli bir bölgeye kırpar ve kırpılmış resmi gösterir. Son olarak, kırpılmış resmi \"Kırpılmış Görüntü.jpg olarak ögsterir.\n",
    "# Paketleri içe aktarın\n",
    "import cv2\n",
    "import numpy as np\n",
    " \n",
    "# Resmi okuyun\n",
    "img = cv2.imread('test.jpg')\n",
    "print(img.shape) # Görüntü şeklini yazdırın\n",
    "cv2.imshow(\"orijinal\", img)\n",
    " \n",
    "# Bir görüntüyü kırpma\n",
    "kesilmis_goruntu = img[80:280, 150:330]\n",
    " \n",
    "# Kırpılmış görüntüyü görüntüleme\n",
    "cv2.imshow(\"kırpılmış\", kesilmis_goruntu)\n",
    " \n",
    "# Kırpılmış görüntüyü kaydetme\n",
    "cv2.imwrite(\"Kırpılmış Görüntü.jpg\", kesilmis_goruntu)\n",
    " \n",
    "cv2.waitKey(0)\n",
    "cv2.destroyAllWindows()"
   ]
  },
  {
   "cell_type": "code",
   "execution_count": null,
   "id": "1f8e4f00-3502-461b-aadf-2b4f2b72b9d7",
   "metadata": {},
   "outputs": [],
   "source": [
    "\n",
    "#Görüntü üzerine fare ile dikdörtgen çizen \n",
    "import cv2\n",
    " \n",
    "# Bağlantı kutusu koordinatlarını saklamak için listeler\n",
    "sol_üst_köşe = []\n",
    "sağ_alt_köşe = []\n",
    " \n",
    "# Fare girişi olduğunda çağrılacak olan işlev\n",
    "def dikdörtgenÇiz(action, x, y, flags, *userdata):\n",
    "  # Global değişkenlere başvuruluyor\n",
    "  global sol_üst_köşe, sağ_alt_köşe\n",
    "  # Sol fare düğmesi basıldığında sol üst köşeyi işaretleyin\n",
    "  if action == cv2.EVENT_LBUTTONDOWN:\n",
    "    sol_üst_köşe = [(x,y)]\n",
    "  # Sol fare düğmesi bırakıldığında sağ alt köşeyi işaretleyin\n",
    "  elif action == cv2.EVENT_LBUTTONUP:\n",
    "    sağ_alt_köşe = [(x,y)]    \n",
    "    # Dikdörtgeni çizin\n",
    "    cv2.rectangle(resim, sol_üst_köşe[0], sağ_alt_köşe[0], (0,255,0), 2, 8)\n",
    "    cv2.imshow(\"Pencere\", resim)\n",
    " \n",
    "# Görüntüleri Oku\n",
    "resim = cv2.imread(\"../Input/örnek.jpg\")\n",
    "# Geçici bir görüntü oluşturun, çizimi temizlemek için kullanışlı olacaktır\n",
    "geçici = resim.copy()\n",
    "# Adlandırılmış bir pencere oluşturun\n",
    "cv2.namedWindow(\"Pencere\")\n",
    "# Fare olayları meydana geldiğinde çağrılan bir yüksek seviyeli işlev\n",
    "cv2.setMouseCallback(\"Pencere\", dikdörtgenÇiz)\n",
    " \n",
    "k=0\n",
    "# Tuş q basıldığında pencereyi kapatın\n",
    "while k!=113:\n",
    "  # Görüntüyü göster\n",
    "  cv2.imshow(\"Pencere\", resim)\n",
    "  k = cv2.waitKey(0)\n",
    "  # Eğer c basıldıysa, pencereyi temizleyin, dummy görüntüsünü kullanarak\n",
    "  if (k == 99):\n",
    "    resim= geçici.copy()\n",
    "    cv2.imshow(\"Pencere\", resim)\n",
    " \n",
    "cv2.destroyAllWindows()\n"
   ]
  },
  {
   "cell_type": "code",
   "execution_count": null,
   "id": "cdd6cedb-70b0-4b92-bb7e-406f08523a2e",
   "metadata": {},
   "outputs": [],
   "source": [
    "# Bu kod bir görüntüyü 45 derece döndürmek için kullanılır.\n",
    "import cv2\n",
    "# Görüntüyü okuma\n",
    "image = cv2.imread('45derece.jpg')\n",
    "\n",
    "# Yükseklik ve genişliği 2'ye bölerek görüntünün merkezini elde etme\n",
    "yükseklik, genişlik = image.shape[:2]\n",
    "# 2D döndürme matrisini oluşturmak için görüntünün merkez koordinatlarını alır\n",
    "merkez = (genişlik/2, yükseklik/2)\n",
    "\n",
    "# 2D döndürme matrisini almak için cv2.getRotationMatrix2D() kullanma\n",
    "döndürme_matrisi = cv2.getRotationMatrix2D(center=merkez, angle=45, scale=1)\n",
    "\n",
    "# cv2.warpAffine kullanarak görüntüyü döndürme\n",
    "döndürülmüş_görüntü = cv2.warpAffine(src=image, M=döndürme_matrisi, dsize=(genişlik, yükseklik))\n",
    "\n",
    "# 'Orijinal görüntü' adlı pencerede orijinal görüntüyü göster\n",
    "# 'Döndürülmüş görüntü' adlı pencerede döndürülmüş görüntüyü göster\n",
    "cv2.imshow('Orijinal görüntü', image)\n",
    "cv2.imshow('Döndürülmüş görüntü', döndürülmüş_görüntü)\n",
    "# Klavyeden herhangi bir tuşa basıncı bekler, ekrandan çıkmak için\n",
    "cv2.waitKey(0)\n",
    "# Döndürülmüş görüntüyü diske kaydetme\n",
    "cv2.imwrite('döndürülmüş_görüntü.jpg', döndürülmüş_görüntü)\n"
   ]
  },
  {
   "cell_type": "code",
   "execution_count": null,
   "id": "5cc6ca5b-4cdb-4c00-bb8f-4f372fe40855",
   "metadata": {},
   "outputs": [],
   "source": []
  },
  {
   "cell_type": "code",
   "execution_count": null,
   "id": "1b421299-93ba-4bd3-b834-9b7e6a312c1e",
   "metadata": {},
   "outputs": [],
   "source": [
    "#opencv kütüphanesi kullanılarak video ekleme \n",
    "#İlk olarak, cv2 kütüphanesi ve time modülü içe aktarılır.\n",
    "import cv2\n",
    "import time\n",
    "#Video dosyasının adı bir değişkene atanır.\n",
    "def main():\n",
    "    video = \"MOT17-04-DPM.mp4\"\n",
    "    capture = cv2.VideoCapture(video)\n",
    "#Video dosyasının açıldığının kontrolü: Eğer video dosyası başarıyla açılmazsa (capture.isOpened() False döndürürse), bir hata mesajı yazdırılır ve fonksiyon sonlandırılır.\n",
    "\n",
    "    if not capture.isOpened():\n",
    "        print(\"Video dosyası açılamadı.\")\n",
    "        return\n",
    "#Video Genişliği ve Yüksekliğinin Alınması: capture.get() yöntemi kullanılarak video dosyasının genişliği ve yüksekliği alınır ve ekrana yazdırılır.\n",
    "    print(\"Genişlik:\", capture.get(cv2.CAP_PROP_FRAME_WIDTH))\n",
    "    print(\"Yükseklik:\", capture.get(cv2.CAP_PROP_FRAME_HEIGHT))\n",
    "\n",
    "    while True:\n",
    "        ret, frame = capture.read()\n",
    "#Çerçeve Gösterme ve Çıkış Kontrolleri: Eğer bir çerçeve başarıyla okunmuşsa (ret True ise), bu çerçeve cv2.imshow() yöntemi kullanılarak ekranda gösterilir. \n",
    "#Ayrıca, kullanıcının 'q' tuşuna basarak veya pencereyi kapatarağa videoyu durdurması sağlanır.\n",
    "        if ret:\n",
    "            cv2.imshow(\"Video\", frame)\n",
    "            if cv2.waitKey(1) & 0xFF == ord('q'):\n",
    "                break\n",
    "        else:\n",
    "            break\n",
    "# Zaman Gecikmesi: time.sleep() yöntemi kullanılarak bir sonraki çerçevenin okunmasını beklemek için bir zaman gecikmesi eklenir. Bu, videoyu daha yavaş bir hızda oynatmak için kullanılı\n",
    "        time.sleep(0.01)\n",
    "#Video Yakalayıcının Serbest Bırakılması ve Pencerelerin Kapatılması: Döngüden çıkıldığında, video yakalayıcısı serbest bırakılır ve tüm OpenCV pencereleri kapatılır.\n",
    "    capture.release()\n",
    "    cv2.destroyAllWindows()\n",
    "#Ana Fonksiyonun Çağrılması: Ana fonksiyon, if __name__ == \"__main__\": bloğu içinde çağrılarak programın çalışması başlatılır.\n",
    "if __name__ == \"__main__\":\n",
    "    main()\n",
    "\n"
   ]
  },
  {
   "cell_type": "code",
   "execution_count": null,
   "id": "780699fa-ba1e-4afe-98ed-cca0059e16de",
   "metadata": {},
   "outputs": [],
   "source": [
    "# Kameradan video akışını yakalamak ve kaydetmek için kullanılan kod:\n",
    "import cv2\n",
    "\n",
    "# Kamerayı açar\n",
    "capture = cv2.VideoCapture(0)\n",
    "\n",
    "# Kameranın genişliği ve yüksekliğini alır\n",
    "width = int(capture.get(cv2.CAP_PROP_FRAME_WIDTH))\n",
    "height = int(capture.get(cv2.CAP_PROP_FRAME_HEIGHT))\n",
    "print(width, height)\n",
    "\n",
    "# Video dosyası yazıcıyı oluşturur\n",
    "writer = cv2.VideoWriter(\"first_video.mp4\", cv2.VideoWriter_fourcc(*\"DIVX\"), 20, (width, height))\n",
    "\n",
    "# Sonsuz bir döngü başlatılır\n",
    "while True:\n",
    "    # Kameradan bir kare okur\n",
    "    ret, frame = capture.read()\n",
    "\n",
    "    # Eğer kare başarılı bir şekilde okunduysa\n",
    "    if ret == True:\n",
    "        # Kareyi ekranda gösterir\n",
    "        cv2.imshow(\"First Video\", frame)\n",
    "        \n",
    "        # Kareyi video dosyasına yazdırır\n",
    "        writer.write(frame)\n",
    "        \n",
    "        # 'q' tuşuna basıldığında döngüyü kırar\n",
    "        if cv2.waitKey(1) & 0xFF == ord('q'):\n",
    "            break\n",
    "    else:\n",
    "        break\n",
    "\n",
    "# Kamerayı serbest bırakır ve video dosyasını kapatır\n",
    "capture.release()\n",
    "writer.release()\n",
    "\n",
    "# Tüm OpenCV pencerelerini kapatır\n",
    "cv2.destroyAllWindows()\n"
   ]
  },
  {
   "cell_type": "code",
   "execution_count": null,
   "id": "f4392b19-df68-4bf0-8974-6baead62cb74",
   "metadata": {},
   "outputs": [],
   "source": [
    "#resim dosyasındaki yüzleri ve gözleri tespit eden uygulama \n",
    "#İlk olarak, OpenCV (cv2) ve sistem argümanlarını (sys) işlemek için gerekli olan kütüphaneler içe aktarılır.\n",
    "import cv2\n",
    "import sys\n",
    "#Haar Cascade Sınıflandırıcılarının Yüklenmesi: Yüz ve göz tespiti için Haar Cascade sınıflandırıcıları yüklenir. \n",
    "# Bu sınıflandırıcılar, eğitilmiş model dosyalarıdır ve yüz veya göz gibi belirli nesneleri tanımlamak için kullanılır.\n",
    "face_cascade = cv2.CascadeClassifier(cv2.data.haarcascades + 'haarcascade_frontalface_default.xml')\n",
    "eye_cascade = cv2.CascadeClassifier(cv2.data.haarcascades + 'haarcascade_eye.xml')\n",
    "#Giriş Resminin Yolu Alınması ve Okunması: Kullanıcı tarafından sağlanan resim dosyasının yolu, komut satırı argümanı (sys.argv[1]) olarak alınır ve cv2.imread() yöntemiyle okunur.\n",
    "\n",
    "img_path = sys.argv[1]\n",
    "img = cv2.imread(img_path)\n",
    "#Resmin Gri Tonlamaya Dönüştürülmesi: Resim, daha iyi tespit yapmak için gri tonlamaya dönüştürülür.\n",
    "gray = cv2.cvtColor(img, cv2.COLOR_BGR2GRAY)\n",
    "#yüzlerin Tespit Edilmesi ve İşaretlenmesi: face_cascade.detectMultiScale() yöntemi kullanılarak resimdeki yüzler tespit edilir\n",
    "#Ardından, her tespit edilen yüzün etrafına bir dikdörtgen çizilir (cv2.rectangle()).\n",
    "faces = face_cascade.detectMultiScale(gray, 1.3, 5, minSize=(130, 130))\n",
    "for (x, y, w, h) in faces:\n",
    "    img = cv2.rectangle(img, (x, y), (x+w, y+h), (0, 255, 0), 2)\n",
    "    roi_gray = gray[y:y+h, x:x+w]\n",
    "    roi_color = img[y:y+h, x:x+w]\n",
    "    \n",
    "    eyes = eye_cascade.detectMultiScale(roi_gray, minSize=(50, 50))\n",
    "    for (x1, y1, w1, h1) in eyes:\n",
    "        cv2.rectangle(roi_color, (x1, y1), (x1+w1, y1+h1), (255, 0, 0), 2)\n",
    "#Sonuçların Gösterilmesi ve Kaydedilmesi: İşaretlenmiş resim ekranda gösterilir ve aynı zamanda cv2.imwrite() ile bir dosyaya kaydedilir.\n",
    "cv2.imshow('img', img)\n",
    "cv2.imwrite(\"output_detected.jpg\", img)\n",
    "cv2.waitKey(0)\n",
    "cv2.destroyAllWindows()\n"
   ]
  },
  {
   "cell_type": "code",
   "execution_count": null,
   "id": "42a66bc3-468c-44c7-ace2-f83b2d611b61",
   "metadata": {},
   "outputs": [],
   "source": []
  },
  {
   "cell_type": "code",
   "execution_count": null,
   "id": "39071b4b-7e50-4920-945c-8af91e227959",
   "metadata": {},
   "outputs": [],
   "source": []
  },
  {
   "cell_type": "code",
   "execution_count": null,
   "id": "947cfdb4-7757-408b-a599-bf40a73330b4",
   "metadata": {},
   "outputs": [],
   "source": []
  },
  {
   "cell_type": "code",
   "execution_count": null,
   "id": "fffc23d4-6bc7-412e-b776-cde8891ec8a7",
   "metadata": {},
   "outputs": [],
   "source": []
  }
 ],
 "metadata": {
  "kernelspec": {
   "display_name": "Python 3 (ipykernel)",
   "language": "python",
   "name": "python3"
  },
  "language_info": {
   "codemirror_mode": {
    "name": "ipython",
    "version": 3
   },
   "file_extension": ".py",
   "mimetype": "text/x-python",
   "name": "python",
   "nbconvert_exporter": "python",
   "pygments_lexer": "ipython3",
   "version": "3.12.3"
  }
 },
 "nbformat": 4,
 "nbformat_minor": 5
}
